{
 "cells": [
  {
   "cell_type": "markdown",
   "metadata": {},
   "source": [
    "# Cifar-10 testset classification on Pynq\n",
    "\n",
    "This notebook covers how to use low quantized neural networks on Pynq. \n",
    "It shows an example how CIFAR-10 testset can be inferred utilizing different precision neural networks inspired at VGG-16, featuring 6 convolutional layers, 3 max pool layers and 3 fully connected layers. There are 3 different precision available:\n",
    "\n",
    "- CNVW1A1 using 1 bit weights and 1 bit activation,\n",
    "- CNVW1A2 using 1 bit weights and 2 bit activation and\n",
    "- CNVW2A2 using 2 bit weights and 2 bit activation"
   ]
  },
  {
   "cell_type": "markdown",
   "metadata": {},
   "source": [
    "## 1. Import the package"
   ]
  },
  {
   "cell_type": "code",
   "execution_count": 1,
   "metadata": {},
   "outputs": [
    {
     "data": {
      "application/javascript": [
       "\n",
       "require(['notebook/js/codecell'], function(codecell) {\n",
       "  codecell.CodeCell.options_default.highlight_modes[\n",
       "      'magic_text/x-csrc'] = {'reg':[/^%%microblaze/]};\n",
       "  Jupyter.notebook.events.one('kernel_ready.Kernel', function(){\n",
       "      Jupyter.notebook.get_cells().map(function(cell){\n",
       "          if (cell.cell_type == 'code'){ cell.auto_highlight(); } }) ;\n",
       "  });\n",
       "});\n"
      ]
     },
     "metadata": {},
     "output_type": "display_data"
    }
   ],
   "source": [
    "import bnn"
   ]
  },
  {
   "cell_type": "markdown",
   "metadata": {},
   "source": [
    "## 2. The Cifar-10 testset\n",
    "\n",
    "This notebook required the testset from https://www.cs.toronto.edu/~kriz/cifar.html which contains 10000 images that can be processed by CNV network directly without preprocessing.\n",
    "\n",
    "You can download the cifar-10 set from given url via wget and unzip it to a folder on Pynq as shown below.\n",
    "This may take a while as the training set is included in the archive as well.\n",
    "After that we need to read the labels from the binary file to be able to compare the results later:"
   ]
  },
  {
   "cell_type": "code",
   "execution_count": 2,
   "metadata": {},
   "outputs": [],
   "source": [
    "#get\n",
    "# !wget https://www.cs.toronto.edu/~kriz/cifar-10-binary.tar.gz\n",
    "#unzip\n",
    "!tar -xf cifar-10-binary.tar.gz\n",
    "labels = []\n",
    "with open(\"/home/xilinx/jupyter_notebooks/bnn/cifar-10-batches-bin/test_batch.bin\", \"rb\") as file:\n",
    "    with open(\"/home/xilinx/jupyter_notebooks/bnn/cifar-10-batches-bin/10_test_batch.bin\", \"wb\") as out_file:\n",
    "        #for 10000 pictures\n",
    "        for i in range(10000):\n",
    "            #read first byte -> label\n",
    "            label_read = file.read(1)\n",
    "            labels.append(int.from_bytes(label_read, byteorder=\"big\"))\n",
    "            out_file.write(label_read)\n",
    "            #read image (3072 bytes) and do nothing with it\n",
    "            if i < 10:\n",
    "                out_file.write(file.read(3072))\n",
    "            else:\n",
    "                file.read(3072)\n",
    "        file.close()"
   ]
  },
  {
   "cell_type": "markdown",
   "metadata": {},
   "source": [
    "## 3. Start inference\n",
    "\n",
    "The inference can be performed with different precision for weights and activation. Creating a specific Classifier will automatically download the correct bitstream onto PL and load the weights and thresholds trained on the specific dataset. \n",
    "\n",
    "Thus that images are already Cifar-10 preformatted no preprocessing is required. Therefor the functions `classify_cifar` or `classify_cifars` can be used. When classifying non Cifar-10 formatted pictures refer to `classify_image` or `classify_images`  (see Notebook CNV-QNN_Cifar10).\n",
    "\n",
    "### Case 1: \n",
    "#### W1A1 - 1 bit weight and 1 activation\n",
    "\n",
    "Instantiate the classifier:"
   ]
  },
  {
   "cell_type": "code",
   "execution_count": 3,
   "metadata": {},
   "outputs": [],
   "source": [
    "hw_classifier = bnn.CnvClassifier(bnn.NETWORK_CNVW1A1,'cifar10',bnn.RUNTIME_HW)"
   ]
  },
  {
   "cell_type": "markdown",
   "metadata": {},
   "source": [
    "And start the inference on Cifar-10 preformatted multiple images:"
   ]
  },
  {
   "cell_type": "code",
   "execution_count": 4,
   "metadata": {},
   "outputs": [
    {
     "name": "stdout",
     "output_type": "stream",
     "text": [
      "Inference took 3278692.93 microseconds, 327.87 usec per image\n",
      "Classification rate: 3050.00 images per second\n"
     ]
    }
   ],
   "source": [
    "result_W1A1 = hw_classifier.classify_cifars(\"/home/xilinx/jupyter_notebooks/bnn/cifar-10-batches-bin/test_batch.bin\")\n",
    "time_W1A1 = hw_classifier.usecPerImage"
   ]
  },
  {
   "cell_type": "code",
   "execution_count": 5,
   "metadata": {},
   "outputs": [],
   "source": [
    "sw_classifier = bnn.CnvClassifier(bnn.NETWORK_CNVW1A1, 'cifar10', bnn.RUNTIME_SW)"
   ]
  },
  {
   "cell_type": "code",
   "execution_count": 6,
   "metadata": {},
   "outputs": [
    {
     "name": "stdout",
     "output_type": "stream",
     "text": [
      "Inference took 20688833.75 microseconds, 1591448.75 usec per image\n",
      "Classification rate: 0.63 images per second\n"
     ]
    }
   ],
   "source": [
    "result_W1A1_SW = sw_classifier.classify_cifars(\"/home/xilinx/jupyter_notebooks/bnn/cifar-10-batches-bin/10_test_batch.bin\")\n",
    "time_W1A1_SW = sw_classifier.usecPerImage"
   ]
  },
  {
   "cell_type": "markdown",
   "metadata": {},
   "source": [
    "### Case 2:\n",
    "#### W1A2 - 1 bit weight and 2 activation"
   ]
  },
  {
   "cell_type": "code",
   "execution_count": 7,
   "metadata": {},
   "outputs": [],
   "source": [
    "hw_classifier = bnn.CnvClassifier(bnn.NETWORK_CNVW1A2,'cifar10',bnn.RUNTIME_HW)"
   ]
  },
  {
   "cell_type": "code",
   "execution_count": 8,
   "metadata": {
    "scrolled": true
   },
   "outputs": [
    {
     "name": "stdout",
     "output_type": "stream",
     "text": [
      "Inference took 3278507.08 microseconds, 327.85 usec per image\n",
      "Classification rate: 3050.17 images per second\n"
     ]
    }
   ],
   "source": [
    "result_W1A2 = hw_classifier.classify_cifars(\"/home/xilinx/jupyter_notebooks/bnn/cifar-10-batches-bin/test_batch.bin\")\n",
    "time_W1A2 = hw_classifier.usecPerImage"
   ]
  },
  {
   "cell_type": "code",
   "execution_count": 9,
   "metadata": {},
   "outputs": [],
   "source": [
    "sw_classifier = bnn.CnvClassifier(bnn.NETWORK_CNVW1A2, 'cifar10', bnn.RUNTIME_SW)"
   ]
  },
  {
   "cell_type": "code",
   "execution_count": 10,
   "metadata": {},
   "outputs": [
    {
     "name": "stdout",
     "output_type": "stream",
     "text": [
      "Inference took 73518042.00 microseconds, 5655234.00 usec per image\n",
      "Classification rate: 0.18 images per second\n"
     ]
    }
   ],
   "source": [
    "result_W1A1_SW = sw_classifier.classify_cifars(\"/home/xilinx/jupyter_notebooks/bnn/cifar-10-batches-bin/10_test_batch.bin\")\n",
    "time_W1A2_SW = sw_classifier.usecPerImage"
   ]
  },
  {
   "cell_type": "markdown",
   "metadata": {},
   "source": [
    "### Case 3:\n",
    "#### W2A2 - 2 bit weight and 2 activation"
   ]
  },
  {
   "cell_type": "code",
   "execution_count": 11,
   "metadata": {},
   "outputs": [],
   "source": [
    "hw_classifier = bnn.CnvClassifier(bnn.NETWORK_CNVW2A2,'cifar10',bnn.RUNTIME_HW)"
   ]
  },
  {
   "cell_type": "code",
   "execution_count": 12,
   "metadata": {},
   "outputs": [
    {
     "name": "stdout",
     "output_type": "stream",
     "text": [
      "Inference took 11626534.42 microseconds, 1162.65 usec per image\n",
      "Classification rate: 860.10 images per second\n"
     ]
    }
   ],
   "source": [
    "result_W2A2 = hw_classifier.classify_cifars(\"/home/xilinx/jupyter_notebooks/bnn/cifar-10-batches-bin/test_batch.bin\")\n",
    "time_W2A2 = hw_classifier.usecPerImage"
   ]
  },
  {
   "cell_type": "code",
   "execution_count": 13,
   "metadata": {},
   "outputs": [],
   "source": [
    "sw_classifier = bnn.CnvClassifier(bnn.NETWORK_CNVW2A2, 'cifar10', bnn.RUNTIME_SW)"
   ]
  },
  {
   "cell_type": "code",
   "execution_count": 14,
   "metadata": {},
   "outputs": [
    {
     "name": "stdout",
     "output_type": "stream",
     "text": [
      "Inference took 123559501.00 microseconds, 9504577.00 usec per image\n",
      "Classification rate: 0.11 images per second\n"
     ]
    }
   ],
   "source": [
    "result_W1A1_SW = sw_classifier.classify_cifars(\"/home/xilinx/jupyter_notebooks/bnn/cifar-10-batches-bin/10_test_batch.bin\")\n",
    "time_W2A2_SW = sw_classifier.usecPerImage"
   ]
  },
  {
   "cell_type": "markdown",
   "metadata": {},
   "source": [
    "## 4. Summary"
   ]
  },
  {
   "cell_type": "markdown",
   "metadata": {},
   "source": [
    "### Inference time\n",
    "\n",
    "Results can be visualized using `matplotlib`. Here the comparison of hardware execution time is plotted in microseconds per Image:"
   ]
  },
  {
   "cell_type": "code",
   "execution_count": 15,
   "metadata": {},
   "outputs": [
    {
     "data": {
      "image/png": "[encoded data removed]",
      "text/plain": [
       "<matplotlib.figure.Figure at 0xafddc6b0>"
      ]
     },
     "metadata": {},
     "output_type": "display_data"
    }
   ],
   "source": [
    "%matplotlib inline\n",
    "import matplotlib.pyplot as plt\n",
    "\n",
    "height = [time_W1A1, time_W1A2, time_W2A2]\n",
    "bars   = ('W1A1', 'W1A2', 'W2A2')\n",
    "\n",
    "y_pos=range(3)\n",
    "plt.bar(y_pos, height, 0.5)\n",
    "plt.xticks(y_pos, bars)\n",
    "\n",
    "plt.show()"
   ]
  },
  {
   "cell_type": "code",
   "execution_count": 18,
   "metadata": {},
   "outputs": [
    {
     "data": {
      "image/png": "[encoded data removed]",
      "text/plain": [
       "<matplotlib.figure.Figure at 0xb3a5ee30>"
      ]
     },
     "metadata": {},
     "output_type": "display_data"
    }
   ],
   "source": [
    "%matplotlib inline\n",
    "import matplotlib.pyplot as plt\n",
    "\n",
    "height = [time_W1A1_SW, time_W1A2_SW, time_W2A2_SW]\n",
    "bars   = ('W1A1_SW', 'W1A2_SW', 'W2A2_SW')\n",
    "\n",
    "y_pos=range(3)\n",
    "plt.bar(y_pos, height, 0.5)\n",
    "plt.xticks(y_pos, bars)\n",
    "\n",
    "plt.show()"
   ]
  },
  {
   "cell_type": "markdown",
   "metadata": {},
   "source": [
    "### Accuracy\n",
    "\n",
    "The accuracy on the testset can be calculated by comparing the inferred labels against the one read at the beginning:\n"
   ]
  },
  {
   "cell_type": "code",
   "execution_count": 16,
   "metadata": {},
   "outputs": [
    {
     "name": "stdout",
     "output_type": "stream",
     "text": [
      "Accuracy W1A1:  79.22 %\n",
      "Accuracy W1A2:  82.66 %\n",
      "Accuracy W2A2:  84.29 %\n"
     ]
    }
   ],
   "source": [
    "#compare against labels\n",
    "countRight = 0\n",
    "for idx in range(len(labels)):\n",
    "    if labels[idx] == result_W1A1[idx]:\n",
    "        countRight += 1\n",
    "accuracyW1A1 = countRight*100/len(labels)\n",
    "\n",
    "countRight = 0\n",
    "for idx in range(len(labels)):\n",
    "    if labels[idx] == result_W1A2[idx]:\n",
    "        countRight += 1\n",
    "accuracyW1A2 = countRight*100/len(labels)\n",
    "\n",
    "countRight = 0\n",
    "for idx in range(len(labels)):\n",
    "    if labels[idx] == result_W2A2[idx]:\n",
    "        countRight += 1\n",
    "accuracyW2A2 = countRight*100/len(labels)\n",
    "\n",
    "print(\"Accuracy W1A1: \",accuracyW1A1,\"%\")\n",
    "print(\"Accuracy W1A2: \",accuracyW1A2,\"%\")\n",
    "print(\"Accuracy W2A2: \",accuracyW2A2,\"%\")"
   ]
  },
  {
   "cell_type": "markdown",
   "metadata": {},
   "source": [
    "## 6. Reset the device"
   ]
  },
  {
   "cell_type": "code",
   "execution_count": 17,
   "metadata": {},
   "outputs": [],
   "source": [
    "from pynq import Xlnk\n",
    "\n",
    "xlnk = Xlnk()\n",
    "xlnk.xlnk_reset()"
   ]
  },
  {
   "cell_type": "code",
   "execution_count": null,
   "metadata": {},
   "outputs": [],
   "source": []
  }
 ],
 "metadata": {
  "kernelspec": {
   "display_name": "Python 3",
   "language": "python",
   "name": "python3"
  },
  "language_info": {
   "codemirror_mode": {
    "name": "ipython",
    "version": 3
   },
   "file_extension": ".py",
   "mimetype": "text/x-python",
   "name": "python",
   "nbconvert_exporter": "python",
   "pygments_lexer": "ipython3",
   "version": "3.6.5"
  }
 },
 "nbformat": 4,
 "nbformat_minor": 1
}
